{
 "cells": [
  {
   "cell_type": "markdown",
   "id": "3971efb0",
   "metadata": {},
   "source": [
    "# Dataset Prepare"
   ]
  },
  {
   "cell_type": "code",
   "execution_count": null,
   "id": "8c5e8059",
   "metadata": {},
   "outputs": [],
   "source": [
    "import xml.etree.ElementTree as ET\n",
    "\n",
    "from xml.dom.minidom import parse, parseString\n",
    "from pathlib import Path\n",
    "import lightning as L\n",
    "import matplotlib.pyplot as plt\n",
    "import pandas as pd\n",
    "import rootutils\n",
    "import torch\n",
    "import torchvision\n",
    "from hydra import compose, initialize\n"
   ]
  },
  {
   "cell_type": "code",
   "execution_count": null,
   "id": "da9213bd",
   "metadata": {},
   "outputs": [
    {
     "ename": "FileNotFoundError",
     "evalue": "Project root directory not found. Indicators: ['.project-root']",
     "output_type": "error",
     "traceback": [
      "\u001b[31m---------------------------------------------------------------------------\u001b[39m\n",
      "\u001b[31mFileNotFoundError\u001b[39m                         Traceback (most recent call last)\n",
      "\u001b[36mCell\u001b[39m\u001b[36m \u001b[39m\u001b[32mIn[31]\u001b[39m\u001b[32m, line 1\u001b[39m\n",
      "\u001b[32m----> \u001b[39m\u001b[32m1\u001b[39m \u001b[43mrootutils\u001b[49m\u001b[43m.\u001b[49m\u001b[43msetup_root\u001b[49m\u001b[43m(\u001b[49m\n",
      "\u001b[32m      2\u001b[39m \u001b[43m    \u001b[49m\u001b[43mPath\u001b[49m\u001b[43m.\u001b[49m\u001b[43mcwd\u001b[49m\u001b[43m(\u001b[49m\u001b[43m)\u001b[49m\u001b[43m.\u001b[49m\u001b[43mparent\u001b[49m\u001b[43m,\u001b[49m\u001b[43m  \u001b[49m\u001b[38;5;66;43;03m# path to the root directory,\u001b[39;49;00m\n",
      "\u001b[32m      3\u001b[39m \u001b[43m    \u001b[49m\u001b[43mindicator\u001b[49m\u001b[43m=\u001b[49m\u001b[33;43m\"\u001b[39;49m\u001b[33;43m.project-root\u001b[39;49m\u001b[33;43m\"\u001b[39;49m\u001b[43m,\u001b[49m\n",
      "\u001b[32m      4\u001b[39m \u001b[43m    \u001b[49m\u001b[43mproject_root_env_var\u001b[49m\u001b[43m=\u001b[49m\u001b[38;5;28;43;01mTrue\u001b[39;49;00m\u001b[43m,\u001b[49m\u001b[43m  \u001b[49m\u001b[38;5;66;43;03m# set the PROJECT_ROOT environment variable to root directory\u001b[39;49;00m\n",
      "\u001b[32m      5\u001b[39m \u001b[43m    \u001b[49m\u001b[43mdotenv\u001b[49m\u001b[43m=\u001b[49m\u001b[38;5;28;43;01mTrue\u001b[39;49;00m\u001b[43m,\u001b[49m\u001b[43m  \u001b[49m\u001b[38;5;66;43;03m# load environment variables from .env if exists in root directory\u001b[39;49;00m\n",
      "\u001b[32m      6\u001b[39m \u001b[43m    \u001b[49m\u001b[43mpythonpath\u001b[49m\u001b[43m=\u001b[49m\u001b[38;5;28;43;01mTrue\u001b[39;49;00m\u001b[43m,\u001b[49m\u001b[43m  \u001b[49m\u001b[38;5;66;43;03m# add root directory to the PYTHONPATH (helps with imports)\u001b[39;49;00m\n",
      "\u001b[32m      7\u001b[39m \u001b[43m    \u001b[49m\u001b[43mcwd\u001b[49m\u001b[43m=\u001b[49m\u001b[38;5;28;43;01mTrue\u001b[39;49;00m\u001b[43m,\u001b[49m\u001b[43m  \u001b[49m\u001b[38;5;66;43;03m# change current working directory to the root directory (helps with filepaths)\u001b[39;49;00m\n",
      "\u001b[32m      8\u001b[39m \u001b[43m)\u001b[49m\n",
      "\n",
      "\u001b[36mFile \u001b[39m\u001b[32m~/AI/practice-projects/CV/SmartWaste-Detect-E2E/.venv/lib/python3.13/site-packages/rootutils/rootutils.py:148\u001b[39m, in \u001b[36msetup_root\u001b[39m\u001b[34m(search_from, indicator, project_root_env_var, dotenv, pythonpath, cwd)\u001b[39m\n",
      "\u001b[32m    115\u001b[39m \u001b[38;5;28;01mdef\u001b[39;00m\u001b[38;5;250m \u001b[39m\u001b[34msetup_root\u001b[39m(\n",
      "\u001b[32m    116\u001b[39m     search_from: Union[\u001b[38;5;28mstr\u001b[39m, Path],\n",
      "\u001b[32m    117\u001b[39m     indicator: Union[\u001b[38;5;28mstr\u001b[39m, Iterable[\u001b[38;5;28mstr\u001b[39m]] = (\n",
      "\u001b[32m   (...)\u001b[39m\u001b[32m    127\u001b[39m     cwd: \u001b[38;5;28mbool\u001b[39m = \u001b[38;5;28;01mFalse\u001b[39;00m,\n",
      "\u001b[32m    128\u001b[39m ) -> Path:\n",
      "\u001b[32m    129\u001b[39m \u001b[38;5;250m    \u001b[39m\u001b[33;03m\"\"\"Combines `get_root()` and `set_root()` into one method.\u001b[39;00m\n",
      "\u001b[32m    130\u001b[39m \n",
      "\u001b[32m    131\u001b[39m \u001b[33;03m    Recursively searches for files from the `indicators` list, starting from given path.\u001b[39;00m\n",
      "\u001b[32m   (...)\u001b[39m\u001b[32m    146\u001b[39m \u001b[33;03m        Path: Path to project root.\u001b[39;00m\n",
      "\u001b[32m    147\u001b[39m \u001b[33;03m    \"\"\"\u001b[39;00m\n",
      "\u001b[32m--> \u001b[39m\u001b[32m148\u001b[39m     path = \u001b[43mfind_root\u001b[49m\u001b[43m(\u001b[49m\u001b[43msearch_from\u001b[49m\u001b[43m,\u001b[49m\u001b[43m \u001b[49m\u001b[43mindicator\u001b[49m\u001b[43m)\u001b[49m\n",
      "\u001b[32m    149\u001b[39m     set_root(\n",
      "\u001b[32m    150\u001b[39m         path=path,\n",
      "\u001b[32m    151\u001b[39m         project_root_env_var=project_root_env_var,\n",
      "\u001b[32m   (...)\u001b[39m\u001b[32m    154\u001b[39m         cwd=cwd,\n",
      "\u001b[32m    155\u001b[39m     )\n",
      "\u001b[32m    156\u001b[39m     \u001b[38;5;28;01mreturn\u001b[39;00m path\n",
      "\n",
      "\u001b[36mFile \u001b[39m\u001b[32m~/AI/practice-projects/CV/SmartWaste-Detect-E2E/.venv/lib/python3.13/site-packages/rootutils/rootutils.py:70\u001b[39m, in \u001b[36mfind_root\u001b[39m\u001b[34m(search_from, indicator)\u001b[39m\n",
      "\u001b[32m     67\u001b[39m path = _rootutils_recursive_search(search_from, indicator)\n",
      "\u001b[32m     69\u001b[39m \u001b[38;5;28;01mif\u001b[39;00m \u001b[38;5;129;01mnot\u001b[39;00m path \u001b[38;5;129;01mor\u001b[39;00m \u001b[38;5;129;01mnot\u001b[39;00m path.exists():\n",
      "\u001b[32m---> \u001b[39m\u001b[32m70\u001b[39m     \u001b[38;5;28;01mraise\u001b[39;00m \u001b[38;5;167;01mFileNotFoundError\u001b[39;00m(\u001b[33mf\u001b[39m\u001b[33m\"\u001b[39m\u001b[33mProject root directory not found. Indicators: \u001b[39m\u001b[38;5;132;01m{\u001b[39;00mindicator\u001b[38;5;132;01m}\u001b[39;00m\u001b[33m\"\u001b[39m)\n",
      "\u001b[32m     72\u001b[39m \u001b[38;5;28;01mreturn\u001b[39;00m path\n",
      "\n",
      "\u001b[31mFileNotFoundError\u001b[39m: Project root directory not found. Indicators: ['.project-root']"
     ]
    }
   ],
   "source": [
    "rootutils.setup_root(\n",
    "    Path.cwd().parent,  # path to the root directory,\n",
    "    indicator=\".project-root\",\n",
    "    project_root_env_var=True,  # set the PROJECT_ROOT environment variable to root directory\n",
    "    dotenv=True,  # load environment variables from .env if exists in root directory\n",
    "    pythonpath=True,  # add root directory to the PYTHONPATH (helps with imports)\n",
    "    cwd=True,  # change current working directory to the root directory (helps with filepaths)\n",
    ")\n"
   ]
  },
  {
   "cell_type": "code",
   "execution_count": null,
   "id": "77a5e68e",
   "metadata": {},
   "outputs": [
    {
     "name": "stdout",
     "output_type": "stream",
     "text": [
      "The autoreload extension is already loaded. To reload it, use:\n",
      "  %reload_ext autoreload\n"
     ]
    }
   ],
   "source": [
    "%load_ext autoreload\n",
    "%autoreload 2\n"
   ]
  },
  {
   "cell_type": "code",
   "execution_count": null,
   "id": "3df7c352",
   "metadata": {},
   "outputs": [
    {
     "name": "stdout",
     "output_type": "stream",
     "text": [
      "{'root_dir': '${oc.env:PROJECT_ROOT}', 'data_dir': '${paths.root_dir}/data/', 'log_dir': '${paths.root_dir}/logs/', 'output_dir': '${hydra:runtime.output_dir}', 'work_dir': '${hydra:runtime.cwd}'}\n"
     ]
    }
   ],
   "source": [
    "with initialize(version_base=\"1.2\", config_path=\"../configs\"):\n",
    "    cfg = compose(config_name=\"train\")\n",
    "    print(cfg.paths)\n"
   ]
  },
  {
   "cell_type": "markdown",
   "id": "c3656db5",
   "metadata": {},
   "source": [
    "## Download the dataset"
   ]
  },
  {
   "cell_type": "code",
   "execution_count": null,
   "id": "89371d66",
   "metadata": {},
   "outputs": [
    {
     "data": {
      "text/plain": [
       "PosixPath('/home/ultron/AI/practice-projects/CV/SmartWaste-Detect-E2E/data/Waste-Segregation-Image-Dataset-2')"
      ]
     },
     "metadata": {},
     "output_type": "display_data"
    }
   ],
   "source": [
    "datasets_dir = Path(cfg.paths.data_dir) / cfg.data.dataset_dir_name\n",
    "datasets_dir"
   ]
  },
  {
   "cell_type": "code",
   "execution_count": null,
   "id": "ebc2c4a2",
   "metadata": {},
   "outputs": [],
   "source": [
    "if not datasets_dir.exists():\n",
    "    from roboflow import Roboflow\n",
    "\n",
    "    rf = Roboflow()\n",
    "\n",
    "    project = rf.workspace(\"waste-segregation-image-dataset\").project(\"waste-segregation-image-dataset\")\n",
    "    version = project.version(4)\n",
    "    dataset = version.download(\"voc\", str(datasets_dir))\n"
   ]
  },
  {
   "cell_type": "code",
   "execution_count": null,
   "id": "872ffcc2",
   "metadata": {},
   "outputs": [],
   "source": [
    "TRAIN_DIR = datasets_dir / \"train\"\n",
    "VAL_DIR = datasets_dir / \"val\""
   ]
  },
  {
   "cell_type": "code",
   "execution_count": null,
   "id": "bc91d2e3",
   "metadata": {},
   "outputs": [
    {
     "data": {
      "text/html": [
       "<div>\n",
       "<style scoped>\n",
       "    .dataframe tbody tr th:only-of-type {\n",
       "        vertical-align: middle;\n",
       "    }\n",
       "\n",
       "    .dataframe tbody tr th {\n",
       "        vertical-align: top;\n",
       "    }\n",
       "\n",
       "    .dataframe thead th {\n",
       "        text-align: right;\n",
       "    }\n",
       "</style>\n",
       "<table border=\"1\" class=\"dataframe\">\n",
       "  <thead>\n",
       "    <tr style=\"text-align: right;\">\n",
       "      <th></th>\n",
       "      <th>filename</th>\n",
       "      <th>width</th>\n",
       "      <th>height</th>\n",
       "      <th>class_name</th>\n",
       "      <th>xmin</th>\n",
       "      <th>ymin</th>\n",
       "      <th>xmax</th>\n",
       "      <th>ymax</th>\n",
       "    </tr>\n",
       "  </thead>\n",
       "  <tbody>\n",
       "    <tr>\n",
       "      <th>0</th>\n",
       "      <td>metal_cans_27_jpg.rf.78a33b699c7b211a37c33995d...</td>\n",
       "      <td>640</td>\n",
       "      <td>640</td>\n",
       "      <td>metal_cans</td>\n",
       "      <td>260</td>\n",
       "      <td>1</td>\n",
       "      <td>591</td>\n",
       "      <td>504</td>\n",
       "    </tr>\n",
       "    <tr>\n",
       "      <th>1</th>\n",
       "      <td>plastic_bottles_30_jpg.rf.537b72469674378988c4...</td>\n",
       "      <td>640</td>\n",
       "      <td>640</td>\n",
       "      <td>plastic_bottles</td>\n",
       "      <td>46</td>\n",
       "      <td>15</td>\n",
       "      <td>640</td>\n",
       "      <td>641</td>\n",
       "    </tr>\n",
       "    <tr>\n",
       "      <th>2</th>\n",
       "      <td>food_waste_6733_jpg.rf.75ab9250c2085a128373624...</td>\n",
       "      <td>640</td>\n",
       "      <td>640</td>\n",
       "      <td>food_waste</td>\n",
       "      <td>55</td>\n",
       "      <td>1</td>\n",
       "      <td>592</td>\n",
       "      <td>641</td>\n",
       "    </tr>\n",
       "    <tr>\n",
       "      <th>3</th>\n",
       "      <td>leaf_waste_104_jpg.rf.9b126452f14c63a95bc8c16f...</td>\n",
       "      <td>640</td>\n",
       "      <td>640</td>\n",
       "      <td>leaf_waste</td>\n",
       "      <td>23</td>\n",
       "      <td>96</td>\n",
       "      <td>586</td>\n",
       "      <td>577</td>\n",
       "    </tr>\n",
       "    <tr>\n",
       "      <th>4</th>\n",
       "      <td>wood_waste_54_jpg.rf.dd07e7543e7b5746b6893f0f6...</td>\n",
       "      <td>640</td>\n",
       "      <td>640</td>\n",
       "      <td>wood_waste</td>\n",
       "      <td>280</td>\n",
       "      <td>1</td>\n",
       "      <td>641</td>\n",
       "      <td>517</td>\n",
       "    </tr>\n",
       "  </tbody>\n",
       "</table>\n",
       "</div>"
      ],
      "text/plain": [
       "                                            filename  width  height  \\\n",
       "0  metal_cans_27_jpg.rf.78a33b699c7b211a37c33995d...    640     640   \n",
       "1  plastic_bottles_30_jpg.rf.537b72469674378988c4...    640     640   \n",
       "2  food_waste_6733_jpg.rf.75ab9250c2085a128373624...    640     640   \n",
       "3  leaf_waste_104_jpg.rf.9b126452f14c63a95bc8c16f...    640     640   \n",
       "4  wood_waste_54_jpg.rf.dd07e7543e7b5746b6893f0f6...    640     640   \n",
       "\n",
       "        class_name  xmin  ymin  xmax  ymax  \n",
       "0       metal_cans   260     1   591   504  \n",
       "1  plastic_bottles    46    15   640   641  \n",
       "2       food_waste    55     1   592   641  \n",
       "3       leaf_waste    23    96   586   577  \n",
       "4       wood_waste   280     1   641   517  "
      ]
     },
     "metadata": {},
     "output_type": "display_data"
    }
   ],
   "source": [
    "def prepare_datsets(ds_dir: Path) -> pd.DataFrame:\n",
    "    \"\"\"\n",
    "    This function will read image information from xml files and convert it to a pandas dataframe.\n",
    "    \"\"\"\n",
    "    datasets_dict = {\n",
    "        \"filename\": [],\n",
    "        \"width\": [],\n",
    "        \"height\": [],\n",
    "        \"class_name\": [],\n",
    "        \"xmin\": [],\n",
    "        \"ymin\": [],\n",
    "        \"xmax\": [],\n",
    "        \"ymax\": [],\n",
    "    }\n",
    "    for xml_file in ds_dir.iterdir():\n",
    "        if xml_file.suffix == \".xml\":\n",
    "            tree = ET.parse(xml_file)\n",
    "            filename = tree.find(\"filename\").text\n",
    "            size = tree.find(\"size\")\n",
    "            width = int(size.find(\"width\").text)\n",
    "            height = int(size.find(\"height\").text)\n",
    "            for obj in tree.findall(\"object\"):\n",
    "                datasets_dict[\"filename\"].append(filename)\n",
    "                datasets_dict[\"width\"].append(width)\n",
    "                datasets_dict[\"height\"].append(height)\n",
    "                class_name = obj.find(\"name\").text\n",
    "                bndbox = obj.find(\"bndbox\")\n",
    "                xmin = int(bndbox.find(\"xmin\").text)\n",
    "                ymin = int(bndbox.find(\"ymin\").text)\n",
    "                xmax = int(bndbox.find(\"xmax\").text)\n",
    "                ymax = int(bndbox.find(\"ymax\").text)\n",
    "                datasets_dict[\"class_name\"].append(class_name)\n",
    "                datasets_dict[\"xmin\"].append(xmin)\n",
    "                datasets_dict[\"ymin\"].append(ymin)\n",
    "                datasets_dict[\"xmax\"].append(xmax)\n",
    "                datasets_dict[\"ymax\"].append(ymax)\n",
    "\n",
    "    return pd.DataFrame(datasets_dict)\n",
    "\n",
    "\n",
    "df = prepare_datsets(TRAIN_DIR)\n",
    "df.head()"
   ]
  },
  {
   "cell_type": "code",
   "execution_count": null,
   "id": "d5dc9e35",
   "metadata": {},
   "outputs": [
    {
     "name": "stdout",
     "output_type": "stream",
     "text": [
      "<class 'pandas.core.frame.DataFrame'>\n",
      "RangeIndex: 4017 entries, 0 to 4016\n",
      "Data columns (total 8 columns):\n",
      " #   Column      Non-Null Count  Dtype \n",
      "---  ------      --------------  ----- \n",
      " 0   filename    4017 non-null   object\n",
      " 1   width       4017 non-null   int64 \n",
      " 2   height      4017 non-null   int64 \n",
      " 3   class_name  4017 non-null   object\n",
      " 4   xmin        4017 non-null   int64 \n",
      " 5   ymin        4017 non-null   int64 \n",
      " 6   xmax        4017 non-null   int64 \n",
      " 7   ymax        4017 non-null   int64 \n",
      "dtypes: int64(6), object(2)\n",
      "memory usage: 251.2+ KB\n"
     ]
    }
   ],
   "source": [
    "df.info()"
   ]
  }
 ],
 "metadata": {
  "language_info": {
   "name": "python"
  }
 },
 "nbformat": 4,
 "nbformat_minor": 5
}
