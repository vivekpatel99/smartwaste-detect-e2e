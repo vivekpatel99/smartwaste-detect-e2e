{
 "cells": [
  {
   "cell_type": "markdown",
   "id": "94e2c07e",
   "metadata": {},
   "source": [
    "# Exploratory Data Analysis"
   ]
  },
  {
   "cell_type": "code",
   "execution_count": 3,
   "id": "4ed55ad8",
   "metadata": {},
   "outputs": [],
   "source": [
    "import xml.etree.ElementTree as ET\n",
    "\n",
    "from xml.dom.minidom import parse, parseString\n",
    "from pathlib import Path\n",
    "\n",
    "import matplotlib.pyplot as plt\n",
    "import pandas as pd\n",
    "import rootutils\n",
    "import torch\n",
    "import torchvision\n",
    "from hydra import compose, initialize\n"
   ]
  },
  {
   "cell_type": "code",
   "execution_count": 4,
   "id": "36fdf65c",
   "metadata": {},
   "outputs": [
    {
     "data": {
      "text/plain": [
       "PosixPath('/home/ultron/AI/practice-projects/CV/SmartWaste-Detect-E2E')"
      ]
     },
     "execution_count": 4,
     "metadata": {},
     "output_type": "execute_result"
    }
   ],
   "source": [
    "rootutils.setup_root(\n",
    "    Path.cwd().parent,  # path to the root directory,\n",
    "    indicator=\".project-root\",\n",
    "    project_root_env_var=True,  # set the PROJECT_ROOT environment variable to root directory\n",
    "    dotenv=True,  # load environment variables from .env if exists in root directory\n",
    "    pythonpath=True,  # add root directory to the PYTHONPATH (helps with imports)\n",
    "    cwd=True,  # change current working directory to the root directory (helps with filepaths)\n",
    ")\n"
   ]
  },
  {
   "cell_type": "code",
   "execution_count": 5,
   "id": "7189bacd",
   "metadata": {},
   "outputs": [],
   "source": [
    "%load_ext autoreload\n",
    "%autoreload 2\n"
   ]
  },
  {
   "cell_type": "code",
   "execution_count": 6,
   "id": "a1b5197b",
   "metadata": {},
   "outputs": [
    {
     "name": "stdout",
     "output_type": "stream",
     "text": [
      "{'root_dir': '${oc.env:PROJECT_ROOT}', 'data_dir': '${paths.root_dir}/data/', 'log_dir': '${paths.root_dir}/logs/', 'output_dir': '${hydra:runtime.output_dir}', 'work_dir': '${hydra:runtime.cwd}'}\n"
     ]
    }
   ],
   "source": [
    "with initialize(version_base=\"1.2\", config_path=\"../configs\"):\n",
    "    cfg = compose(config_name=\"train\")\n",
    "    print(cfg.paths)\n"
   ]
  },
  {
   "cell_type": "markdown",
   "id": "4c924ce5",
   "metadata": {},
   "source": [
    "## Download the dataset"
   ]
  },
  {
   "cell_type": "code",
   "execution_count": 7,
   "id": "5aca7829",
   "metadata": {},
   "outputs": [
    {
     "data": {
      "text/plain": [
       "PosixPath('/home/ultron/AI/practice-projects/CV/SmartWaste-Detect-E2E/data/Waste-Segregation-Image-Dataset-2')"
      ]
     },
     "execution_count": 7,
     "metadata": {},
     "output_type": "execute_result"
    }
   ],
   "source": [
    "datasets_dir = Path(cfg.paths.data_dir) / cfg.data.dataset_dir_name\n",
    "datasets_dir"
   ]
  },
  {
   "cell_type": "code",
   "execution_count": 8,
   "id": "b5d25415",
   "metadata": {},
   "outputs": [],
   "source": [
    "if not datasets_dir.exists():\n",
    "    from roboflow import Roboflow\n",
    "\n",
    "    rf = Roboflow()\n",
    "\n",
    "    project = rf.workspace(\"waste-segregation-image-dataset\").project(\"waste-segregation-image-dataset\")\n",
    "    version = project.version(2)\n",
    "    dataset = version.download(\"voc\", str(datasets_dir))\n"
   ]
  },
  {
   "cell_type": "code",
   "execution_count": 9,
   "id": "c5ab423b",
   "metadata": {},
   "outputs": [],
   "source": [
    "TRAIN_DIR = datasets_dir / \"train\"\n",
    "VAL_DIR = datasets_dir / \"val\""
   ]
  },
  {
   "cell_type": "code",
   "execution_count": 14,
   "id": "d6ea4ee1",
   "metadata": {},
   "outputs": [
    {
     "data": {
      "text/html": [
       "<div>\n",
       "<style scoped>\n",
       "    .dataframe tbody tr th:only-of-type {\n",
       "        vertical-align: middle;\n",
       "    }\n",
       "\n",
       "    .dataframe tbody tr th {\n",
       "        vertical-align: top;\n",
       "    }\n",
       "\n",
       "    .dataframe thead th {\n",
       "        text-align: right;\n",
       "    }\n",
       "</style>\n",
       "<table border=\"1\" class=\"dataframe\">\n",
       "  <thead>\n",
       "    <tr style=\"text-align: right;\">\n",
       "      <th></th>\n",
       "      <th>filename</th>\n",
       "      <th>width</th>\n",
       "      <th>height</th>\n",
       "      <th>class_name</th>\n",
       "      <th>xmin</th>\n",
       "      <th>ymin</th>\n",
       "      <th>xmax</th>\n",
       "      <th>ymax</th>\n",
       "    </tr>\n",
       "  </thead>\n",
       "  <tbody>\n",
       "    <tr>\n",
       "      <th>0</th>\n",
       "      <td>metal_cans_147_jpg.rf.b76a5eec120f561afe4a82e8...</td>\n",
       "      <td>640</td>\n",
       "      <td>640</td>\n",
       "      <td>metal_cans</td>\n",
       "      <td>224</td>\n",
       "      <td>174</td>\n",
       "      <td>485</td>\n",
       "      <td>477</td>\n",
       "    </tr>\n",
       "    <tr>\n",
       "      <th>1</th>\n",
       "      <td>food_waste_6304_jpg.rf.fa839a07564577870e46656...</td>\n",
       "      <td>640</td>\n",
       "      <td>640</td>\n",
       "      <td>food_waste</td>\n",
       "      <td>1</td>\n",
       "      <td>119</td>\n",
       "      <td>235</td>\n",
       "      <td>345</td>\n",
       "    </tr>\n",
       "    <tr>\n",
       "      <th>2</th>\n",
       "      <td>food_waste_6304_jpg.rf.fa839a07564577870e46656...</td>\n",
       "      <td>640</td>\n",
       "      <td>640</td>\n",
       "      <td>food_waste</td>\n",
       "      <td>1</td>\n",
       "      <td>360</td>\n",
       "      <td>271</td>\n",
       "      <td>627</td>\n",
       "    </tr>\n",
       "    <tr>\n",
       "      <th>3</th>\n",
       "      <td>food_waste_6304_jpg.rf.fa839a07564577870e46656...</td>\n",
       "      <td>640</td>\n",
       "      <td>640</td>\n",
       "      <td>food_waste</td>\n",
       "      <td>225</td>\n",
       "      <td>95</td>\n",
       "      <td>450</td>\n",
       "      <td>254</td>\n",
       "    </tr>\n",
       "    <tr>\n",
       "      <th>4</th>\n",
       "      <td>food_waste_6304_jpg.rf.fa839a07564577870e46656...</td>\n",
       "      <td>640</td>\n",
       "      <td>640</td>\n",
       "      <td>food_waste</td>\n",
       "      <td>230</td>\n",
       "      <td>271</td>\n",
       "      <td>478</td>\n",
       "      <td>503</td>\n",
       "    </tr>\n",
       "  </tbody>\n",
       "</table>\n",
       "</div>"
      ],
      "text/plain": [
       "                                            filename  width  height  \\\n",
       "0  metal_cans_147_jpg.rf.b76a5eec120f561afe4a82e8...    640     640   \n",
       "1  food_waste_6304_jpg.rf.fa839a07564577870e46656...    640     640   \n",
       "2  food_waste_6304_jpg.rf.fa839a07564577870e46656...    640     640   \n",
       "3  food_waste_6304_jpg.rf.fa839a07564577870e46656...    640     640   \n",
       "4  food_waste_6304_jpg.rf.fa839a07564577870e46656...    640     640   \n",
       "\n",
       "   class_name  xmin  ymin  xmax  ymax  \n",
       "0  metal_cans   224   174   485   477  \n",
       "1  food_waste     1   119   235   345  \n",
       "2  food_waste     1   360   271   627  \n",
       "3  food_waste   225    95   450   254  \n",
       "4  food_waste   230   271   478   503  "
      ]
     },
     "execution_count": 14,
     "metadata": {},
     "output_type": "execute_result"
    }
   ],
   "source": [
    "def prepare_datsets(ds_dir: Path) -> pd.DataFrame:\n",
    "    \"\"\"\n",
    "    This function will read image information from xml files and convert it to a pandas dataframe.\n",
    "    \"\"\"\n",
    "    datasets_dict = {\n",
    "        \"filename\": [],\n",
    "        \"width\": [],\n",
    "        \"height\": [],\n",
    "        \"class_name\": [],\n",
    "        \"xmin\": [],\n",
    "        \"ymin\": [],\n",
    "        \"xmax\": [],\n",
    "        \"ymax\": [],\n",
    "    }\n",
    "    for xml_file in ds_dir.iterdir():\n",
    "        if xml_file.suffix == \".xml\":\n",
    "            tree = ET.parse(xml_file)\n",
    "            filename = tree.find(\"filename\").text\n",
    "            size = tree.find(\"size\")\n",
    "            width = int(size.find(\"width\").text)\n",
    "            height = int(size.find(\"height\").text)\n",
    "\n",
    "            for obj in tree.findall(\"object\"):\n",
    "                class_name = obj.find(\"name\").text\n",
    "                bndbox = obj.find(\"bndbox\")\n",
    "                xmin = int(bndbox.find(\"xmin\").text)\n",
    "                ymin = int(bndbox.find(\"ymin\").text)\n",
    "                xmax = int(bndbox.find(\"xmax\").text)\n",
    "                ymax = int(bndbox.find(\"ymax\").text)\n",
    "                datasets_dict[\"filename\"].append(filename)\n",
    "                datasets_dict[\"width\"].append(width)\n",
    "                datasets_dict[\"height\"].append(height)\n",
    "                datasets_dict[\"class_name\"].append(class_name)\n",
    "                datasets_dict[\"xmin\"].append(xmin)\n",
    "                datasets_dict[\"ymin\"].append(ymin)\n",
    "                datasets_dict[\"xmax\"].append(xmax)\n",
    "                datasets_dict[\"ymax\"].append(ymax)\n",
    "\n",
    "    return pd.DataFrame(datasets_dict)\n",
    "\n",
    "\n",
    "df = prepare_datsets(TRAIN_DIR)\n",
    "df.head()"
   ]
  },
  {
   "cell_type": "code",
   "execution_count": 16,
   "id": "7470d998",
   "metadata": {},
   "outputs": [
    {
     "name": "stdout",
     "output_type": "stream",
     "text": [
      "<class 'pandas.core.frame.DataFrame'>\n",
      "RangeIndex: 1518 entries, 0 to 1517\n",
      "Data columns (total 8 columns):\n",
      " #   Column      Non-Null Count  Dtype \n",
      "---  ------      --------------  ----- \n",
      " 0   filename    1518 non-null   object\n",
      " 1   width       1518 non-null   int64 \n",
      " 2   height      1518 non-null   int64 \n",
      " 3   class_name  1518 non-null   object\n",
      " 4   xmin        1518 non-null   int64 \n",
      " 5   ymin        1518 non-null   int64 \n",
      " 6   xmax        1518 non-null   int64 \n",
      " 7   ymax        1518 non-null   int64 \n",
      "dtypes: int64(6), object(2)\n",
      "memory usage: 95.0+ KB\n"
     ]
    }
   ],
   "source": [
    "df.info()"
   ]
  },
  {
   "cell_type": "code",
   "execution_count": 17,
   "id": "c0875ece",
   "metadata": {},
   "outputs": [
    {
     "data": {
      "text/plain": [
       "array(['metal_cans', 'food_waste', 'ewaste', 'plastic_bottles',\n",
       "       'paper_waste', 'leaf_waste', 'wood_waste', 'plastic_bags'],\n",
       "      dtype=object)"
      ]
     },
     "execution_count": 17,
     "metadata": {},
     "output_type": "execute_result"
    }
   ],
   "source": [
    "df.class_name.unique()"
   ]
  },
  {
   "cell_type": "code",
   "execution_count": null,
   "id": "ae20db14",
   "metadata": {},
   "outputs": [],
   "source": []
  }
 ],
 "metadata": {
  "kernelspec": {
   "display_name": ".venv",
   "language": "python",
   "name": "python3"
  },
  "language_info": {
   "codemirror_mode": {
    "name": "ipython",
    "version": 3
   },
   "file_extension": ".py",
   "mimetype": "text/x-python",
   "name": "python",
   "nbconvert_exporter": "python",
   "pygments_lexer": "ipython3",
   "version": "3.13.2"
  }
 },
 "nbformat": 4,
 "nbformat_minor": 5
}
